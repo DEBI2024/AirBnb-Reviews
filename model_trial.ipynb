{
  "cells": [
    {
      "cell_type": "code",
      "execution_count": 5,
      "metadata": {
        "_cell_guid": "b1076dfc-b9ad-4769-8c92-a6c4dae69d19",
        "_uuid": "8f2839f25d086af736a60e9eeb907d3b93b6e0e5",
        "colab": {
          "base_uri": "https://localhost:8080/"
        },
        "execution": {
          "iopub.execute_input": "2024-07-26T16:18:58.631174Z",
          "iopub.status.busy": "2024-07-26T16:18:58.63046Z",
          "iopub.status.idle": "2024-07-26T16:19:32.715502Z",
          "shell.execute_reply": "2024-07-26T16:19:32.714347Z",
          "shell.execute_reply.started": "2024-07-26T16:18:58.631138Z"
        },
        "id": "FEEvrllfCzOP",
        "outputId": "b9d29eb0-3b00-4ae0-98f9-70a25520e3bd",
        "trusted": true
      },
      "outputs": [
        {
          "data": {
            "text/plain": [
              "<module 'etl' from 'c:\\\\Users\\\\almog\\\\repos\\\\AirBnb-Reviews\\\\etl.py'>"
            ]
          },
          "execution_count": 5,
          "metadata": {},
          "output_type": "execute_result"
        }
      ],
      "source": [
        "import importlib\n",
        "import gru_data_pipeline as gdp\n",
        "importlib.reload(gdp)\n",
        "\n",
        "import gru_model as gru\n",
        "importlib.reload(gru)\n",
        "\n",
        "import etl\n",
        "importlib.reload(etl)"
      ]
    },
    {
      "cell_type": "code",
      "execution_count": null,
      "metadata": {},
      "outputs": [],
      "source": [
        "etl.main(is_dataset_new = False, upload = False)"
      ]
    },
    {
      "cell_type": "code",
      "execution_count": 6,
      "metadata": {
        "colab": {
          "base_uri": "https://localhost:8080/"
        },
        "id": "D65tX5N3MLv7",
        "outputId": "d1ebeecc-cd24-4f78-c66d-bb11d2e9e8a6"
      },
      "outputs": [
        {
          "name": "stdout",
          "output_type": "stream",
          "text": [
            "./dataset\\london_test.csv\n",
            "./dataset\\london_train.csv\n",
            "./dataset\\nyc_test.csv\n",
            "./dataset\\nyc_train.csv\n"
          ]
        }
      ],
      "source": [
        "x_train, x_test, y_train, y_test, embedding_matrix, num_tokens = gdp.main()"
      ]
    },
    {
      "cell_type": "code",
      "execution_count": null,
      "metadata": {
        "execution": {
          "iopub.execute_input": "2024-07-26T16:43:43.106475Z",
          "iopub.status.busy": "2024-07-26T16:43:43.106065Z",
          "iopub.status.idle": "2024-07-26T16:44:18.700221Z",
          "shell.execute_reply": "2024-07-26T16:44:18.699345Z",
          "shell.execute_reply.started": "2024-07-26T16:43:43.106442Z"
        },
        "id": "8o03fOVwCzOT",
        "outputId": "4d3364c0-524f-4b0f-e9da-355168c7a153",
        "trusted": true
      },
      "outputs": [],
      "source": [
        "history, model = gru.main(x_train, y_train, embedding_matrix, num_tokens)"
      ]
    }
  ],
  "metadata": {
    "accelerator": "GPU",
    "colab": {
      "gpuType": "T4",
      "name": "notebook701e892cc3",
      "provenance": []
    },
    "kaggle": {
      "accelerator": "gpu",
      "dataSources": [
        {
          "databundleVersionId": 9204693,
          "datasetId": 5421040,
          "sourceId": 9035900,
          "sourceType": "datasetVersion"
        }
      ],
      "dockerImageVersionId": 30746,
      "isGpuEnabled": true,
      "isInternetEnabled": true,
      "language": "python",
      "sourceType": "notebook"
    },
    "kernelspec": {
      "display_name": "Python 3",
      "name": "python3"
    },
    "language_info": {
      "codemirror_mode": {
        "name": "ipython",
        "version": 3
      },
      "file_extension": ".py",
      "mimetype": "text/x-python",
      "name": "python",
      "nbconvert_exporter": "python",
      "pygments_lexer": "ipython3",
      "version": "3.12.4"
    }
  },
  "nbformat": 4,
  "nbformat_minor": 0
}
